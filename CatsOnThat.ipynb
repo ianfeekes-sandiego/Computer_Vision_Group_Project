{
  "nbformat": 4,
  "nbformat_minor": 0,
  "metadata": {
    "colab": {
      "provenance": []
    },
    "kernelspec": {
      "name": "python3",
      "display_name": "Python 3"
    },
    "language_info": {
      "name": "python"
    }
  },
  "cells": [
    {
      "cell_type": "code",
      "execution_count": 3,
      "metadata": {
        "id": "DA5HBXntS1A3"
      },
      "outputs": [],
      "source": [
        "# Final Team Project\n",
        "# MSAAI - Intro to Computer Vision\n",
        "# 12/12/2022\n",
        "#Ian Timmons, Ian Feekes, Jester Ugalde, Yevgeniya Okuneva\n",
        "\n",
        "import keras\n",
        "import tensorflow as tf\n",
        "from keras.datasets import mnist, cifar10\n",
        "from keras.models import Sequential\n",
        "from keras.layers import Dense, Dropout, Flatten, Activation, MaxPooling2D, Conv2D, BatchNormalization\n",
        "import matplotlib.pyplot as plt\n",
        "from keras.utils import np_utils\n",
        "from keras.layers import Dense\n",
        "from keras import optimizers\n",
        "from keras.preprocessing.image import ImageDataGenerator\n",
        "from keras import backend as K\n",
        "from PIL import Image, ImageChops, ImageFilter\n",
        "#Create callback to limit the number of epochs once learning ceases\n",
        "callback = tf.keras.callbacks.EarlyStopping(monitor='loss', patience=3)\n",
        "from keras.utils.vis_utils import plot_model"
      ]
    }
  ]
}